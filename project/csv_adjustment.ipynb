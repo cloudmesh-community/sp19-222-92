{
 "cells": [
  {
   "cell_type": "code",
   "execution_count": 1,
   "metadata": {},
   "outputs": [
    {
     "name": "stdout",
     "output_type": "stream",
     "text": [
      "/Users/benyeagley/Desktop/sp19-222-92/project/gamedata\n"
     ]
    }
   ],
   "source": [
    "cd gamedata"
   ]
  },
  {
   "cell_type": "code",
   "execution_count": 2,
   "metadata": {},
   "outputs": [],
   "source": [
    "import pandas as pd\n",
    "import numpy as np\n",
    "import matplotlib.pylab as plt\n",
    "\n",
    "# Used for normalization\n",
    "from sklearn import preprocessing\n",
    "\n",
    "# Used to shuffle data\n",
    "import random\n",
    "\n",
    "# Used to perform dimensionality reduction\n",
    "from sklearn.decomposition import PCA\n",
    "\n",
    "# Used for KMeans clustering\n",
    "from sklearn.cluster import KMeans"
   ]
  },
  {
   "cell_type": "code",
   "execution_count": 3,
   "metadata": {},
   "outputs": [
    {
     "data": {
      "text/html": [
       "<div>\n",
       "<style scoped>\n",
       "    .dataframe tbody tr th:only-of-type {\n",
       "        vertical-align: middle;\n",
       "    }\n",
       "\n",
       "    .dataframe tbody tr th {\n",
       "        vertical-align: top;\n",
       "    }\n",
       "\n",
       "    .dataframe thead th {\n",
       "        text-align: right;\n",
       "    }\n",
       "</style>\n",
       "<table border=\"1\" class=\"dataframe\">\n",
       "  <thead>\n",
       "    <tr style=\"text-align: right;\">\n",
       "      <th></th>\n",
       "      <th>Class</th>\n",
       "      <th>HR min [bpm]</th>\n",
       "      <th>HR avg [bpm]</th>\n",
       "      <th>HR max [bpm]</th>\n",
       "      <th>HR min [%]</th>\n",
       "      <th>HR avg [%]</th>\n",
       "      <th>HR max [%]</th>\n",
       "      <th>Time in HR zone 1 (50 - 59 %)</th>\n",
       "      <th>Time in HR zone 2 (60 - 69 %)</th>\n",
       "      <th>Time in HR zone 3 (70 - 79 %)</th>\n",
       "      <th>...</th>\n",
       "      <th>Number of accelerations (-1.99 - -1.00 m/s)</th>\n",
       "      <th>Number of accelerations (-0.99 - -0.50 m/s)</th>\n",
       "      <th>Number of accelerations (0.50 - 0.99 m/s)</th>\n",
       "      <th>Number of accelerations (1.00 - 1.99 m/s)</th>\n",
       "      <th>Number of accelerations (2.00 - 2.99 m/s)</th>\n",
       "      <th>Number of accelerations (3.00 - 50.00 m/s)</th>\n",
       "      <th>Calories [kcal]</th>\n",
       "      <th>Training load score</th>\n",
       "      <th>Recovery time [h]</th>\n",
       "      <th>Min Played</th>\n",
       "    </tr>\n",
       "  </thead>\n",
       "  <tbody>\n",
       "    <tr>\n",
       "      <th>0</th>\n",
       "      <td>Forward</td>\n",
       "      <td>37</td>\n",
       "      <td>148</td>\n",
       "      <td>210</td>\n",
       "      <td>19</td>\n",
       "      <td>74</td>\n",
       "      <td>105</td>\n",
       "      <td>0:19:22</td>\n",
       "      <td>0:27:11</td>\n",
       "      <td>0:56:50</td>\n",
       "      <td>...</td>\n",
       "      <td>399</td>\n",
       "      <td>762</td>\n",
       "      <td>593</td>\n",
       "      <td>389</td>\n",
       "      <td>119</td>\n",
       "      <td>19</td>\n",
       "      <td>1343</td>\n",
       "      <td>230</td>\n",
       "      <td>46.0</td>\n",
       "      <td>99</td>\n",
       "    </tr>\n",
       "    <tr>\n",
       "      <th>1</th>\n",
       "      <td>Midfielder</td>\n",
       "      <td>62</td>\n",
       "      <td>98</td>\n",
       "      <td>188</td>\n",
       "      <td>31</td>\n",
       "      <td>49</td>\n",
       "      <td>94</td>\n",
       "      <td>0:23:49</td>\n",
       "      <td>0:08:11</td>\n",
       "      <td>0:08:23</td>\n",
       "      <td>...</td>\n",
       "      <td>82</td>\n",
       "      <td>239</td>\n",
       "      <td>211</td>\n",
       "      <td>69</td>\n",
       "      <td>12</td>\n",
       "      <td>0</td>\n",
       "      <td>495</td>\n",
       "      <td>30</td>\n",
       "      <td>5.5</td>\n",
       "      <td>0</td>\n",
       "    </tr>\n",
       "    <tr>\n",
       "      <th>2</th>\n",
       "      <td>Forward</td>\n",
       "      <td>80</td>\n",
       "      <td>150</td>\n",
       "      <td>217</td>\n",
       "      <td>40</td>\n",
       "      <td>75</td>\n",
       "      <td>109</td>\n",
       "      <td>0:28:32</td>\n",
       "      <td>0:20:40</td>\n",
       "      <td>0:15:03</td>\n",
       "      <td>...</td>\n",
       "      <td>302</td>\n",
       "      <td>601</td>\n",
       "      <td>500</td>\n",
       "      <td>333</td>\n",
       "      <td>97</td>\n",
       "      <td>11</td>\n",
       "      <td>1407</td>\n",
       "      <td>289</td>\n",
       "      <td>135.7</td>\n",
       "      <td>82</td>\n",
       "    </tr>\n",
       "    <tr>\n",
       "      <th>3</th>\n",
       "      <td>Defender</td>\n",
       "      <td>86</td>\n",
       "      <td>150</td>\n",
       "      <td>200</td>\n",
       "      <td>43</td>\n",
       "      <td>75</td>\n",
       "      <td>100</td>\n",
       "      <td>0:19:42</td>\n",
       "      <td>0:15:29</td>\n",
       "      <td>0:19:19</td>\n",
       "      <td>...</td>\n",
       "      <td>352</td>\n",
       "      <td>590</td>\n",
       "      <td>647</td>\n",
       "      <td>360</td>\n",
       "      <td>77</td>\n",
       "      <td>12</td>\n",
       "      <td>1462</td>\n",
       "      <td>302</td>\n",
       "      <td>151.4</td>\n",
       "      <td>79</td>\n",
       "    </tr>\n",
       "    <tr>\n",
       "      <th>4</th>\n",
       "      <td>Defender</td>\n",
       "      <td>83</td>\n",
       "      <td>121</td>\n",
       "      <td>192</td>\n",
       "      <td>42</td>\n",
       "      <td>61</td>\n",
       "      <td>96</td>\n",
       "      <td>1:23:38</td>\n",
       "      <td>0:25:26</td>\n",
       "      <td>0:11:26</td>\n",
       "      <td>...</td>\n",
       "      <td>129</td>\n",
       "      <td>325</td>\n",
       "      <td>276</td>\n",
       "      <td>118</td>\n",
       "      <td>21</td>\n",
       "      <td>7</td>\n",
       "      <td>1019</td>\n",
       "      <td>118</td>\n",
       "      <td>21.3</td>\n",
       "      <td>7</td>\n",
       "    </tr>\n",
       "  </tbody>\n",
       "</table>\n",
       "<p>5 rows × 34 columns</p>\n",
       "</div>"
      ],
      "text/plain": [
       "        Class  HR min [bpm]  HR avg [bpm]  HR max [bpm]  HR min [%]  \\\n",
       "0     Forward            37           148           210          19   \n",
       "1  Midfielder            62            98           188          31   \n",
       "2     Forward            80           150           217          40   \n",
       "3    Defender            86           150           200          43   \n",
       "4    Defender            83           121           192          42   \n",
       "\n",
       "   HR avg [%]  HR max [%] Time in HR zone 1 (50 - 59 %)  \\\n",
       "0          74         105                       0:19:22   \n",
       "1          49          94                       0:23:49   \n",
       "2          75         109                       0:28:32   \n",
       "3          75         100                       0:19:42   \n",
       "4          61          96                       1:23:38   \n",
       "\n",
       "  Time in HR zone 2 (60 - 69 %) Time in HR zone 3 (70 - 79 %)     ...      \\\n",
       "0                       0:27:11                       0:56:50     ...       \n",
       "1                       0:08:11                       0:08:23     ...       \n",
       "2                       0:20:40                       0:15:03     ...       \n",
       "3                       0:15:29                       0:19:19     ...       \n",
       "4                       0:25:26                       0:11:26     ...       \n",
       "\n",
       "  Number of accelerations (-1.99 - -1.00 m/s)  \\\n",
       "0                                         399   \n",
       "1                                          82   \n",
       "2                                         302   \n",
       "3                                         352   \n",
       "4                                         129   \n",
       "\n",
       "  Number of accelerations (-0.99 - -0.50 m/s)  \\\n",
       "0                                         762   \n",
       "1                                         239   \n",
       "2                                         601   \n",
       "3                                         590   \n",
       "4                                         325   \n",
       "\n",
       "   Number of accelerations (0.50 - 0.99 m/s)  \\\n",
       "0                                        593   \n",
       "1                                        211   \n",
       "2                                        500   \n",
       "3                                        647   \n",
       "4                                        276   \n",
       "\n",
       "   Number of accelerations (1.00 - 1.99 m/s)  \\\n",
       "0                                        389   \n",
       "1                                         69   \n",
       "2                                        333   \n",
       "3                                        360   \n",
       "4                                        118   \n",
       "\n",
       "   Number of accelerations (2.00 - 2.99 m/s)  \\\n",
       "0                                        119   \n",
       "1                                         12   \n",
       "2                                         97   \n",
       "3                                         77   \n",
       "4                                         21   \n",
       "\n",
       "   Number of accelerations (3.00 - 50.00 m/s)  Calories [kcal]  \\\n",
       "0                                          19             1343   \n",
       "1                                           0              495   \n",
       "2                                          11             1407   \n",
       "3                                          12             1462   \n",
       "4                                           7             1019   \n",
       "\n",
       "   Training load score  Recovery time [h]  Min Played  \n",
       "0                  230               46.0          99  \n",
       "1                   30                5.5           0  \n",
       "2                  289              135.7          82  \n",
       "3                  302              151.4          79  \n",
       "4                  118               21.3           7  \n",
       "\n",
       "[5 rows x 34 columns]"
      ]
     },
     "execution_count": 3,
     "metadata": {},
     "output_type": "execute_result"
    }
   ],
   "source": [
    "# File name should probably be read in as an argument to a function\n",
    "datafile = \"total_game_data2.csv\"\n",
    "\n",
    "df = pd.read_csv(datafile)\n",
    "df.head()"
   ]
  },
  {
   "cell_type": "code",
   "execution_count": 4,
   "metadata": {},
   "outputs": [],
   "source": [
    "# Removes every row where a player had zero minutes played\n",
    "df = df[df['Min Played'] != 0]\n",
    "\n",
    "#Reset index for df\n",
    "df = df.reset_index(drop=True)"
   ]
  },
  {
   "cell_type": "code",
   "execution_count": 5,
   "metadata": {},
   "outputs": [],
   "source": [
    "#Drop unnecessary columns (one line?)\n",
    "df = df[df.columns.drop(list(df.filter(regex='Time')))]\n",
    "df = df[df.columns.drop(list(df.filter(regex='HR')))]\n",
    "df = df[df.columns.drop(list(df.filter(regex='Calories')))]\n",
    "df = df[df.columns.drop(list(df.filter(regex='load score')))]\n",
    "df = df[df.columns.drop(list(df.filter(regex='Recovery')))]\n",
    "df = df[df.columns.drop(list(df.filter(regex='Speed zone 1')))]\n",
    "\n",
    "# Shuffle the data\n",
    "[m,n] = df.shape\n",
    "df = df.sample(frac=1)"
   ]
  },
  {
   "cell_type": "code",
   "execution_count": 6,
   "metadata": {},
   "outputs": [],
   "source": [
    "labels = df['Class']\n",
    "df = df[df.columns.drop(list(df.filter(regex='Class')))]\n",
    "\n",
    "#Reset index for df\n",
    "df = df.reset_index(drop=True)"
   ]
  },
  {
   "cell_type": "code",
   "execution_count": 7,
   "metadata": {},
   "outputs": [
    {
     "data": {
      "text/html": [
       "<div>\n",
       "<style scoped>\n",
       "    .dataframe tbody tr th:only-of-type {\n",
       "        vertical-align: middle;\n",
       "    }\n",
       "\n",
       "    .dataframe tbody tr th {\n",
       "        vertical-align: top;\n",
       "    }\n",
       "\n",
       "    .dataframe thead th {\n",
       "        text-align: right;\n",
       "    }\n",
       "</style>\n",
       "<table border=\"1\" class=\"dataframe\">\n",
       "  <thead>\n",
       "    <tr style=\"text-align: right;\">\n",
       "      <th></th>\n",
       "      <th>Distance in Speed zone 2 [yd] (0.10 - 2.59 mph)</th>\n",
       "      <th>Distance in Speed zone 3 [yd] (2.60 - 5.13 mph)</th>\n",
       "      <th>Distance in Speed zone 5 [yd] (8.39- mph)</th>\n",
       "      <th>Number of accelerations (-50.00 - -3.00 m/s)</th>\n",
       "      <th>Number of accelerations (-2.99 - -2.00 m/s)</th>\n",
       "      <th>Number of accelerations (-1.99 - -1.00 m/s)</th>\n",
       "      <th>Number of accelerations (1.00 - 1.99 m/s)</th>\n",
       "      <th>Number of accelerations (2.00 - 2.99 m/s)</th>\n",
       "      <th>Number of accelerations (3.00 - 50.00 m/s)</th>\n",
       "    </tr>\n",
       "  </thead>\n",
       "  <tbody>\n",
       "    <tr>\n",
       "      <th>0</th>\n",
       "      <td>0.167975</td>\n",
       "      <td>0.332397</td>\n",
       "      <td>0.164505</td>\n",
       "      <td>0.009783</td>\n",
       "      <td>0.035729</td>\n",
       "      <td>0.167163</td>\n",
       "      <td>0.156954</td>\n",
       "      <td>0.035304</td>\n",
       "      <td>0.003403</td>\n",
       "    </tr>\n",
       "    <tr>\n",
       "      <th>1</th>\n",
       "      <td>0.201824</td>\n",
       "      <td>0.342382</td>\n",
       "      <td>0.120494</td>\n",
       "      <td>0.003998</td>\n",
       "      <td>0.027486</td>\n",
       "      <td>0.149425</td>\n",
       "      <td>0.155422</td>\n",
       "      <td>0.029485</td>\n",
       "      <td>0.004498</td>\n",
       "    </tr>\n",
       "    <tr>\n",
       "      <th>2</th>\n",
       "      <td>0.182468</td>\n",
       "      <td>0.321161</td>\n",
       "      <td>0.174076</td>\n",
       "      <td>0.004991</td>\n",
       "      <td>0.034029</td>\n",
       "      <td>0.156987</td>\n",
       "      <td>0.148367</td>\n",
       "      <td>0.034483</td>\n",
       "      <td>0.006352</td>\n",
       "    </tr>\n",
       "    <tr>\n",
       "      <th>3</th>\n",
       "      <td>0.138226</td>\n",
       "      <td>0.257258</td>\n",
       "      <td>0.211452</td>\n",
       "      <td>0.009756</td>\n",
       "      <td>0.047154</td>\n",
       "      <td>0.153659</td>\n",
       "      <td>0.165041</td>\n",
       "      <td>0.039024</td>\n",
       "      <td>0.006504</td>\n",
       "    </tr>\n",
       "    <tr>\n",
       "      <th>4</th>\n",
       "      <td>0.144946</td>\n",
       "      <td>0.275160</td>\n",
       "      <td>0.211678</td>\n",
       "      <td>0.008947</td>\n",
       "      <td>0.041579</td>\n",
       "      <td>0.162105</td>\n",
       "      <td>0.166842</td>\n",
       "      <td>0.041053</td>\n",
       "      <td>0.002632</td>\n",
       "    </tr>\n",
       "  </tbody>\n",
       "</table>\n",
       "</div>"
      ],
      "text/plain": [
       "   Distance in Speed zone 2 [yd] (0.10 - 2.59 mph)  \\\n",
       "0                                         0.167975   \n",
       "1                                         0.201824   \n",
       "2                                         0.182468   \n",
       "3                                         0.138226   \n",
       "4                                         0.144946   \n",
       "\n",
       "   Distance in Speed zone 3 [yd] (2.60 - 5.13 mph)  \\\n",
       "0                                         0.332397   \n",
       "1                                         0.342382   \n",
       "2                                         0.321161   \n",
       "3                                         0.257258   \n",
       "4                                         0.275160   \n",
       "\n",
       "   Distance in Speed zone 5 [yd] (8.39- mph)  \\\n",
       "0                                   0.164505   \n",
       "1                                   0.120494   \n",
       "2                                   0.174076   \n",
       "3                                   0.211452   \n",
       "4                                   0.211678   \n",
       "\n",
       "   Number of accelerations (-50.00 - -3.00 m/s)  \\\n",
       "0                                      0.009783   \n",
       "1                                      0.003998   \n",
       "2                                      0.004991   \n",
       "3                                      0.009756   \n",
       "4                                      0.008947   \n",
       "\n",
       "   Number of accelerations (-2.99 - -2.00 m/s)  \\\n",
       "0                                     0.035729   \n",
       "1                                     0.027486   \n",
       "2                                     0.034029   \n",
       "3                                     0.047154   \n",
       "4                                     0.041579   \n",
       "\n",
       "   Number of accelerations (-1.99 - -1.00 m/s)  \\\n",
       "0                                     0.167163   \n",
       "1                                     0.149425   \n",
       "2                                     0.156987   \n",
       "3                                     0.153659   \n",
       "4                                     0.162105   \n",
       "\n",
       "   Number of accelerations (1.00 - 1.99 m/s)  \\\n",
       "0                                   0.156954   \n",
       "1                                   0.155422   \n",
       "2                                   0.148367   \n",
       "3                                   0.165041   \n",
       "4                                   0.166842   \n",
       "\n",
       "   Number of accelerations (2.00 - 2.99 m/s)  \\\n",
       "0                                   0.035304   \n",
       "1                                   0.029485   \n",
       "2                                   0.034483   \n",
       "3                                   0.039024   \n",
       "4                                   0.041053   \n",
       "\n",
       "   Number of accelerations (3.00 - 50.00 m/s)  \n",
       "0                                    0.003403  \n",
       "1                                    0.004498  \n",
       "2                                    0.006352  \n",
       "3                                    0.006504  \n",
       "4                                    0.002632  "
      ]
     },
     "execution_count": 7,
     "metadata": {},
     "output_type": "execute_result"
    }
   ],
   "source": [
    "# Column names to use in later loop\n",
    "distance_columns = ('Distance in Speed zone 2 [yd] (0.10 - 2.59 mph)', 'Distance in Speed zone 3 [yd] (2.60 - 5.13 mph)', 'Distance in Speed zone 4 [yd] (5.14 - 8.38 mph)', 'Distance in Speed zone 5 [yd] (8.39- mph)')\n",
    "accel_columns = ('Number of accelerations (-50.00 - -3.00 m/s)', 'Number of accelerations (-2.99 - -2.00 m/s)', 'Number of accelerations (-1.99 - -1.00 m/s)', 'Number of accelerations (-0.99 - -0.50 m/s)', 'Number of accelerations (0.50 - 0.99 m/s)', 'Number of accelerations (1.00 - 1.99 m/s)', 'Number of accelerations (2.00 - 2.99 m/s)', 'Number of accelerations (3.00 - 50.00 m/s)')\n",
    "\n",
    "# Create new column for total accelerations\n",
    "df['Total accelerations'] = pd.Series(np.random.randn(len(df)), index=df.index)\n",
    "\n",
    "# Convert column dtypes to floats for percentage values\n",
    "df['Sprints'] = df['Sprints'].apply(np.float64)\n",
    "for i in distance_columns:\n",
    "    df[i] = df[i].apply(np.float64)\n",
    "for i in accel_columns:\n",
    "    df[i] = df[i].apply(np.float64)\n",
    "\n",
    "# Adjust sprints for minutes played, adjust speed zones for total distance, and get total accelerations\n",
    "for index, row in df.iterrows():\n",
    "    # Initialize total acceleration value\n",
    "    total_accels = 0\n",
    "    # Change # of sprints to sprints per min\n",
    "    df.at[index, 'Sprints'] = row['Sprints'] / row['Min Played']\n",
    "    # Divide distance in speed zone by total distance, save back in speed zone column\n",
    "    for i in distance_columns:\n",
    "        df.at[index, i] = (row[i]) / int(row['Total distance [yd]'])\n",
    "    # Calculate total # of accelerations and save in new column\n",
    "    for i in accel_columns:\n",
    "        total_accels += row[i]\n",
    "    df.at[index, 'Total accelerations'] = total_accels\n",
    "\n",
    "# Second loop to divide each acceleration column by the total accelerations, save back in acceleration columns\n",
    "for index, row in df.iterrows():\n",
    "    for i in accel_columns:\n",
    "        df.at[index, i] = (row[i]) / int(row['Total accelerations'])\n",
    "\n",
    "# Shows all remaining columns and whether they were dropped or not (tested to maximize scores at the end)\n",
    "df = df[df.columns.drop(list(df.filter(regex='Total distance')))]\n",
    "df = df[df.columns.drop(list(df.filter(regex='Distance / min')))]\n",
    "df = df[df.columns.drop(list(df.filter(regex='Average')))]\n",
    "df = df[df.columns.drop(list(df.filter(regex='Max')))]\n",
    "df = df[df.columns.drop(list(df.filter(regex='Sprints')))]\n",
    "#df = df[df.columns.drop(list(df.filter(regex='zone 2')))]\n",
    "#df = df[df.columns.drop(list(df.filter(regex='zone 3')))]\n",
    "df = df[df.columns.drop(list(df.filter(regex='zone 4')))]\n",
    "#df = df[df.columns.drop(list(df.filter(regex='zone 5')))]\n",
    "#df = df[df.columns.drop(list(df.filter(regex='-50.00 - -3.00')))]\n",
    "#df = df[df.columns.drop(list(df.filter(regex='-2.99 - -2.00')))]\n",
    "#df = df[df.columns.drop(list(df.filter(regex='-1.99 - -1.00')))] ####\n",
    "df = df[df.columns.drop(list(df.filter(regex='-0.99 - -0.50')))]\n",
    "df = df[df.columns.drop(list(df.filter(regex='0.50 - 0.99')))]\n",
    "#df = df[df.columns.drop(list(df.filter(regex='1.00 - 1.99')))] \n",
    "#df = df[df.columns.drop(list(df.filter(regex='2.00 - 2.99')))] \n",
    "#df = df[df.columns.drop(list(df.filter(regex='3.00 - 50.00')))]\n",
    "df = df[df.columns.drop(list(df.filter(regex='Min Played')))]\n",
    "df = df[df.columns.drop(list(df.filter(regex='Total accelerations')))]\n",
    "\n",
    "df.head()"
   ]
  },
  {
   "cell_type": "code",
   "execution_count": 8,
   "metadata": {},
   "outputs": [],
   "source": [
    "# Normalize\n",
    "\n",
    "x = df.values\n",
    "min_max_scaler = preprocessing.MinMaxScaler()\n",
    "x_scaled = min_max_scaler.fit_transform(x)\n",
    "df = pd.DataFrame(x_scaled)\n",
    "\n",
    "# Test effects of weighing certain columns\n",
    "#df[column] = df[column]apply(lambda x: x*weight)\n",
    "\n",
    "# Save changes in new csv to view later\n",
    "df.to_csv(\"altered_total.csv\")"
   ]
  },
  {
   "cell_type": "code",
   "execution_count": 9,
   "metadata": {},
   "outputs": [
    {
     "data": {
      "image/png": "[encoded data removed]",
      "text/plain": [
       "<Figure size 432x288 with 1 Axes>"
      ]
     },
     "metadata": {},
     "output_type": "display_data"
    }
   ],
   "source": [
    "# Box plots for data columns\n",
    "fig7, ax7 = plt.subplots()\n",
    "ax7.set_title('Visualize Data Spread')\n",
    "_ = ax7.boxplot(df[1:11])"
   ]
  },
  {
   "cell_type": "code",
   "execution_count": 11,
   "metadata": {},
   "outputs": [],
   "source": [
    "# Reduce to two dimensions (uses data from every column, are they all really needed / does this overfit???)\n",
    "\n",
    "pca = PCA(n_components=2)\n",
    "principalComponents = pca.fit_transform(df)\n",
    "principalDf = pd.DataFrame(data = principalComponents, columns = ['principal component 1', 'principal component 2'])\n",
    "\n",
    "# Add the labels back to the df\n",
    "finalDf = pd.concat([principalDf, labels], axis = 1)"
   ]
  },
  {
   "cell_type": "code",
   "execution_count": 12,
   "metadata": {},
   "outputs": [
    {
     "data": {
      "image/png": "[encoded data removed]",
      "text/plain": [
       "<Figure size 432x288 with 1 Axes>"
      ]
     },
     "metadata": {},
     "output_type": "display_data"
    }
   ],
   "source": [
    "# Store dimensions of dataframe and convert to an array\n",
    "[m,n] = finalDf.shape\n",
    "df_array = finalDf.values\n",
    "\n",
    "# Columns to be used for clustering\n",
    "ind1 = 0; ind2 = 1\n",
    "\n",
    "X = np.zeros((m,2))\n",
    "X[:,0] = df_array[:,ind1]\n",
    "X[:,1] = df_array[:,ind2]\n",
    "\n",
    "_ = plt.scatter( X[:,0],X[:,1], alpha=0.25 )"
   ]
  },
  {
   "cell_type": "code",
   "execution_count": 13,
   "metadata": {},
   "outputs": [],
   "source": [
    "def shape_assign(labels):\n",
    "    shape_labels = []\n",
    "    for i in labels:\n",
    "        if(i == 'Forward'):\n",
    "            shape_labels.append('x')\n",
    "        elif(i == 'Midfielder'):\n",
    "            shape_labels.append('^')\n",
    "        elif(i == 'Defender'):\n",
    "            shape_labels.append('.')\n",
    "    return shape_labels\n",
    "\n",
    "markers = shape_assign(labels)"
   ]
  },
  {
   "cell_type": "code",
   "execution_count": 14,
   "metadata": {},
   "outputs": [
    {
     "data": {
      "image/png": "[encoded data removed]",
      "text/plain": [
       "<Figure size 1080x1080 with 1 Axes>"
      ]
     },
     "metadata": {},
     "output_type": "display_data"
    }
   ],
   "source": [
    "# Scatter plot customization\n",
    "plt.rcParams['figure.figsize'] = (15,15) \n",
    "plt.rcParams['font.size'] = 25 \n",
    "plt.rcParams['lines.markersize'] = 7\n",
    "\n",
    "# KMeans clustering code\n",
    "kmeans = KMeans( n_clusters=3 ).fit(X)\n",
    "x = X[:,0]\n",
    "y = X[:,1]\n",
    "\n",
    "# Function that lists color values for identifying the kmeans clusters\n",
    "def assign_color(labels):\n",
    "    colors = []\n",
    "    for i in labels:\n",
    "        if i == 0:\n",
    "            colors.append('r')\n",
    "        elif i == 1:\n",
    "            colors.append('b')\n",
    "        elif i == 2:\n",
    "            colors.append('k')\n",
    "    return colors\n",
    "\n",
    "# Call function on kmeans labels\n",
    "col = assign_color(kmeans.labels_)\n",
    "\n",
    "# Plot each point one by one \n",
    "for i in range(len(X)):\n",
    "    plt.scatter(x[i], y[i], c=col[i], marker=markers[i], alpha=0.5)\n",
    "    \n",
    "plt.savefig('cluster_plot.png')"
   ]
  },
  {
   "cell_type": "code",
   "execution_count": 15,
   "metadata": {},
   "outputs": [
    {
     "name": "stdout",
     "output_type": "stream",
     "text": [
      "Homogeneity: 0.227\n",
      "Completeness: 0.260\n",
      "V-measure: 0.242\n"
     ]
    }
   ],
   "source": [
    "# Function to convert class to a numeric value - 0, 1, or 2\n",
    "def labels_to_numeric(labels, x, y, z):\n",
    "    numeric_labels = []\n",
    "    for i in labels:\n",
    "        if i == 'Forward':\n",
    "            numeric_labels.append(x)\n",
    "        elif i == 'Midfielder':\n",
    "            numeric_labels.append(y)\n",
    "        else:\n",
    "            numeric_labels.append(z)\n",
    "    return(numeric_labels)\n",
    "\n",
    "# Convert labels to numeric value\n",
    "numeric_labels = labels_to_numeric(labels, 0, 1, 2)\n",
    "\n",
    "from sklearn.metrics.cluster import v_measure_score, completeness_score, homogeneity_score\n",
    "print(\"Homogeneity: %0.3f\" % homogeneity_score(numeric_labels, kmeans.labels_))\n",
    "print(\"Completeness: %0.3f\" % completeness_score(numeric_labels, kmeans.labels_))\n",
    "print(\"V-measure: %0.3f\" % v_measure_score(numeric_labels, kmeans.labels_))"
   ]
  },
  {
   "cell_type": "code",
   "execution_count": 16,
   "metadata": {},
   "outputs": [],
   "source": [
    "X = df\n",
    "Y = labels\n",
    "\n",
    "from sklearn.model_selection import train_test_split\n",
    "X_train, X_test, y_train, y_test = train_test_split(X, Y, random_state=0)"
   ]
  },
  {
   "cell_type": "code",
   "execution_count": 17,
   "metadata": {},
   "outputs": [
    {
     "name": "stdout",
     "output_type": "stream",
     "text": [
      "Accuracy of Logistic regression classifier on training set: 0.65\n",
      "Accuracy of Logistic regression classifier on test set: 0.58\n"
     ]
    }
   ],
   "source": [
    "from sklearn.linear_model import LogisticRegression\n",
    "logreg = LogisticRegression()\n",
    "logreg.fit(X_train, y_train)\n",
    "print('Accuracy of Logistic regression classifier on training set: {:.2f}'\n",
    "     .format(logreg.score(X_train, y_train)))\n",
    "print('Accuracy of Logistic regression classifier on test set: {:.2f}'\n",
    "     .format(logreg.score(X_test, y_test)))"
   ]
  },
  {
   "cell_type": "code",
   "execution_count": 18,
   "metadata": {},
   "outputs": [
    {
     "name": "stdout",
     "output_type": "stream",
     "text": [
      "Accuracy of Decision Tree classifier on training set: 0.77\n",
      "Accuracy of Decision Tree classifier on test set: 0.58\n"
     ]
    }
   ],
   "source": [
    "from sklearn.tree import DecisionTreeClassifier\n",
    "clf = DecisionTreeClassifier(max_depth=3).fit(X_train, y_train)\n",
    "print('Accuracy of Decision Tree classifier on training set: {:.2f}'\n",
    "     .format(clf.score(X_train, y_train)))\n",
    "print('Accuracy of Decision Tree classifier on test set: {:.2f}'\n",
    "     .format(clf.score(X_test, y_test)))"
   ]
  },
  {
   "cell_type": "code",
   "execution_count": 19,
   "metadata": {},
   "outputs": [
    {
     "name": "stdout",
     "output_type": "stream",
     "text": [
      "Accuracy of K-NN classifier on training set: 0.75\n",
      "Accuracy of K-NN classifier on test set: 0.70\n"
     ]
    }
   ],
   "source": [
    "from sklearn.neighbors import KNeighborsClassifier\n",
    "knn = KNeighborsClassifier(n_neighbors=8)\n",
    "knn.fit(X_train, y_train)\n",
    "print('Accuracy of K-NN classifier on training set: {:.2f}'\n",
    "     .format(knn.score(X_train, y_train)))\n",
    "print('Accuracy of K-NN classifier on test set: {:.2f}'\n",
    "     .format(knn.score(X_test, y_test)))"
   ]
  },
  {
   "cell_type": "code",
   "execution_count": 20,
   "metadata": {},
   "outputs": [
    {
     "name": "stdout",
     "output_type": "stream",
     "text": [
      "Accuracy of LDA classifier on training set: 0.72\n",
      "Accuracy of LDA classifier on test set: 0.60\n"
     ]
    }
   ],
   "source": [
    "from sklearn.discriminant_analysis import LinearDiscriminantAnalysis\n",
    "lda = LinearDiscriminantAnalysis()\n",
    "lda.fit(X_train, y_train)\n",
    "print('Accuracy of LDA classifier on training set: {:.2f}'\n",
    "     .format(lda.score(X_train, y_train)))\n",
    "print('Accuracy of LDA classifier on test set: {:.2f}'\n",
    "     .format(lda.score(X_test, y_test)))"
   ]
  },
  {
   "cell_type": "code",
   "execution_count": 21,
   "metadata": {},
   "outputs": [
    {
     "name": "stdout",
     "output_type": "stream",
     "text": [
      "Accuracy of GNB classifier on training set: 0.69\n",
      "Accuracy of GNB classifier on test set: 0.67\n"
     ]
    }
   ],
   "source": [
    "from sklearn.naive_bayes import GaussianNB\n",
    "gnb = GaussianNB()\n",
    "gnb.fit(X_train, y_train)\n",
    "print('Accuracy of GNB classifier on training set: {:.2f}'\n",
    "     .format(gnb.score(X_train, y_train)))\n",
    "print('Accuracy of GNB classifier on test set: {:.2f}'\n",
    "     .format(gnb.score(X_test, y_test)))"
   ]
  },
  {
   "cell_type": "code",
   "execution_count": 22,
   "metadata": {},
   "outputs": [
    {
     "name": "stdout",
     "output_type": "stream",
     "text": [
      "Accuracy of SVM classifier on training set: 0.65\n",
      "Accuracy of SVM classifier on test set: 0.56\n"
     ]
    }
   ],
   "source": [
    "from sklearn.svm import SVC\n",
    "svm = SVC()\n",
    "svm.fit(X_train, y_train)\n",
    "print('Accuracy of SVM classifier on training set: {:.2f}'\n",
    "     .format(svm.score(X_train, y_train)))\n",
    "print('Accuracy of SVM classifier on test set: {:.2f}'\n",
    "     .format(svm.score(X_test, y_test)))"
   ]
  },
  {
   "cell_type": "code",
   "execution_count": null,
   "metadata": {},
   "outputs": [],
   "source": []
  },
  {
   "cell_type": "code",
   "execution_count": null,
   "metadata": {},
   "outputs": [],
   "source": []
  }
 ],
 "metadata": {
  "kernelspec": {
   "display_name": "Python 3",
   "language": "python",
   "name": "python3"
  },
  "language_info": {
   "codemirror_mode": {
    "name": "ipython",
    "version": 3
   },
   "file_extension": ".py",
   "mimetype": "text/x-python",
   "name": "python",
   "nbconvert_exporter": "python",
   "pygments_lexer": "ipython3",
   "version": "3.6.5"
  }
 },
 "nbformat": 4,
 "nbformat_minor": 2
}
