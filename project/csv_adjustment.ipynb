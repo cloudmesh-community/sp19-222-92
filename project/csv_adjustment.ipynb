{
 "cells": [
  {
   "cell_type": "code",
   "execution_count": 1,
   "metadata": {},
   "outputs": [
    {
     "name": "stdout",
     "output_type": "stream",
     "text": [
      "/Users/benyeagley/Desktop/sp19-222-92/project/gamedata\n"
     ]
    }
   ],
   "source": [
    "cd gamedata"
   ]
  },
  {
   "cell_type": "code",
   "execution_count": 2,
   "metadata": {},
   "outputs": [],
   "source": [
    "import pandas as pd\n",
    "import numpy as np"
   ]
  },
  {
   "cell_type": "code",
   "execution_count": 3,
   "metadata": {},
   "outputs": [
    {
     "data": {
      "text/html": [
       "<div>\n",
       "<style scoped>\n",
       "    .dataframe tbody tr th:only-of-type {\n",
       "        vertical-align: middle;\n",
       "    }\n",
       "\n",
       "    .dataframe tbody tr th {\n",
       "        vertical-align: top;\n",
       "    }\n",
       "\n",
       "    .dataframe thead th {\n",
       "        text-align: right;\n",
       "    }\n",
       "</style>\n",
       "<table border=\"1\" class=\"dataframe\">\n",
       "  <thead>\n",
       "    <tr style=\"text-align: right;\">\n",
       "      <th></th>\n",
       "      <th>Class</th>\n",
       "      <th>HR min [bpm]</th>\n",
       "      <th>HR avg [bpm]</th>\n",
       "      <th>HR max [bpm]</th>\n",
       "      <th>HR min [%]</th>\n",
       "      <th>HR avg [%]</th>\n",
       "      <th>HR max [%]</th>\n",
       "      <th>Time in HR zone 1 (50 - 59 %)</th>\n",
       "      <th>Time in HR zone 2 (60 - 69 %)</th>\n",
       "      <th>Time in HR zone 3 (70 - 79 %)</th>\n",
       "      <th>...</th>\n",
       "      <th>Number of accelerations (-1.99 - -1.00 m/s)</th>\n",
       "      <th>Number of accelerations (-0.99 - -0.50 m/s)</th>\n",
       "      <th>Number of accelerations (0.50 - 0.99 m/s)</th>\n",
       "      <th>Number of accelerations (1.00 - 1.99 m/s)</th>\n",
       "      <th>Number of accelerations (2.00 - 2.99 m/s)</th>\n",
       "      <th>Number of accelerations (3.00 - 50.00 m/s)</th>\n",
       "      <th>Calories [kcal]</th>\n",
       "      <th>Training load score</th>\n",
       "      <th>Recovery time [h]</th>\n",
       "      <th>Min Played</th>\n",
       "    </tr>\n",
       "  </thead>\n",
       "  <tbody>\n",
       "    <tr>\n",
       "      <th>0</th>\n",
       "      <td>Forward</td>\n",
       "      <td>37</td>\n",
       "      <td>148</td>\n",
       "      <td>210</td>\n",
       "      <td>19</td>\n",
       "      <td>74</td>\n",
       "      <td>105</td>\n",
       "      <td>0:19:22</td>\n",
       "      <td>0:27:11</td>\n",
       "      <td>0:56:50</td>\n",
       "      <td>...</td>\n",
       "      <td>399</td>\n",
       "      <td>762</td>\n",
       "      <td>593</td>\n",
       "      <td>389</td>\n",
       "      <td>119</td>\n",
       "      <td>19</td>\n",
       "      <td>1343</td>\n",
       "      <td>230</td>\n",
       "      <td>46.0</td>\n",
       "      <td>99</td>\n",
       "    </tr>\n",
       "    <tr>\n",
       "      <th>1</th>\n",
       "      <td>Midfielder</td>\n",
       "      <td>62</td>\n",
       "      <td>98</td>\n",
       "      <td>188</td>\n",
       "      <td>31</td>\n",
       "      <td>49</td>\n",
       "      <td>94</td>\n",
       "      <td>0:23:49</td>\n",
       "      <td>0:08:11</td>\n",
       "      <td>0:08:23</td>\n",
       "      <td>...</td>\n",
       "      <td>82</td>\n",
       "      <td>239</td>\n",
       "      <td>211</td>\n",
       "      <td>69</td>\n",
       "      <td>12</td>\n",
       "      <td>0</td>\n",
       "      <td>495</td>\n",
       "      <td>30</td>\n",
       "      <td>5.5</td>\n",
       "      <td>0</td>\n",
       "    </tr>\n",
       "    <tr>\n",
       "      <th>2</th>\n",
       "      <td>Forward</td>\n",
       "      <td>80</td>\n",
       "      <td>150</td>\n",
       "      <td>217</td>\n",
       "      <td>40</td>\n",
       "      <td>75</td>\n",
       "      <td>109</td>\n",
       "      <td>0:28:32</td>\n",
       "      <td>0:20:40</td>\n",
       "      <td>0:15:03</td>\n",
       "      <td>...</td>\n",
       "      <td>302</td>\n",
       "      <td>601</td>\n",
       "      <td>500</td>\n",
       "      <td>333</td>\n",
       "      <td>97</td>\n",
       "      <td>11</td>\n",
       "      <td>1407</td>\n",
       "      <td>289</td>\n",
       "      <td>135.7</td>\n",
       "      <td>82</td>\n",
       "    </tr>\n",
       "    <tr>\n",
       "      <th>3</th>\n",
       "      <td>Defender</td>\n",
       "      <td>86</td>\n",
       "      <td>150</td>\n",
       "      <td>200</td>\n",
       "      <td>43</td>\n",
       "      <td>75</td>\n",
       "      <td>100</td>\n",
       "      <td>0:19:42</td>\n",
       "      <td>0:15:29</td>\n",
       "      <td>0:19:19</td>\n",
       "      <td>...</td>\n",
       "      <td>352</td>\n",
       "      <td>590</td>\n",
       "      <td>647</td>\n",
       "      <td>360</td>\n",
       "      <td>77</td>\n",
       "      <td>12</td>\n",
       "      <td>1462</td>\n",
       "      <td>302</td>\n",
       "      <td>151.4</td>\n",
       "      <td>79</td>\n",
       "    </tr>\n",
       "    <tr>\n",
       "      <th>4</th>\n",
       "      <td>Defender</td>\n",
       "      <td>83</td>\n",
       "      <td>121</td>\n",
       "      <td>192</td>\n",
       "      <td>42</td>\n",
       "      <td>61</td>\n",
       "      <td>96</td>\n",
       "      <td>1:23:38</td>\n",
       "      <td>0:25:26</td>\n",
       "      <td>0:11:26</td>\n",
       "      <td>...</td>\n",
       "      <td>129</td>\n",
       "      <td>325</td>\n",
       "      <td>276</td>\n",
       "      <td>118</td>\n",
       "      <td>21</td>\n",
       "      <td>7</td>\n",
       "      <td>1019</td>\n",
       "      <td>118</td>\n",
       "      <td>21.3</td>\n",
       "      <td>7</td>\n",
       "    </tr>\n",
       "  </tbody>\n",
       "</table>\n",
       "<p>5 rows × 34 columns</p>\n",
       "</div>"
      ],
      "text/plain": [
       "        Class  HR min [bpm]  HR avg [bpm]  HR max [bpm]  HR min [%]  \\\n",
       "0     Forward            37           148           210          19   \n",
       "1  Midfielder            62            98           188          31   \n",
       "2     Forward            80           150           217          40   \n",
       "3    Defender            86           150           200          43   \n",
       "4    Defender            83           121           192          42   \n",
       "\n",
       "   HR avg [%]  HR max [%] Time in HR zone 1 (50 - 59 %)  \\\n",
       "0          74         105                       0:19:22   \n",
       "1          49          94                       0:23:49   \n",
       "2          75         109                       0:28:32   \n",
       "3          75         100                       0:19:42   \n",
       "4          61          96                       1:23:38   \n",
       "\n",
       "  Time in HR zone 2 (60 - 69 %) Time in HR zone 3 (70 - 79 %)     ...      \\\n",
       "0                       0:27:11                       0:56:50     ...       \n",
       "1                       0:08:11                       0:08:23     ...       \n",
       "2                       0:20:40                       0:15:03     ...       \n",
       "3                       0:15:29                       0:19:19     ...       \n",
       "4                       0:25:26                       0:11:26     ...       \n",
       "\n",
       "  Number of accelerations (-1.99 - -1.00 m/s)  \\\n",
       "0                                         399   \n",
       "1                                          82   \n",
       "2                                         302   \n",
       "3                                         352   \n",
       "4                                         129   \n",
       "\n",
       "  Number of accelerations (-0.99 - -0.50 m/s)  \\\n",
       "0                                         762   \n",
       "1                                         239   \n",
       "2                                         601   \n",
       "3                                         590   \n",
       "4                                         325   \n",
       "\n",
       "   Number of accelerations (0.50 - 0.99 m/s)  \\\n",
       "0                                        593   \n",
       "1                                        211   \n",
       "2                                        500   \n",
       "3                                        647   \n",
       "4                                        276   \n",
       "\n",
       "   Number of accelerations (1.00 - 1.99 m/s)  \\\n",
       "0                                        389   \n",
       "1                                         69   \n",
       "2                                        333   \n",
       "3                                        360   \n",
       "4                                        118   \n",
       "\n",
       "   Number of accelerations (2.00 - 2.99 m/s)  \\\n",
       "0                                        119   \n",
       "1                                         12   \n",
       "2                                         97   \n",
       "3                                         77   \n",
       "4                                         21   \n",
       "\n",
       "   Number of accelerations (3.00 - 50.00 m/s)  Calories [kcal]  \\\n",
       "0                                          19             1343   \n",
       "1                                           0              495   \n",
       "2                                          11             1407   \n",
       "3                                          12             1462   \n",
       "4                                           7             1019   \n",
       "\n",
       "   Training load score  Recovery time [h]  Min Played  \n",
       "0                  230               46.0          99  \n",
       "1                   30                5.5           0  \n",
       "2                  289              135.7          82  \n",
       "3                  302              151.4          79  \n",
       "4                  118               21.3           7  \n",
       "\n",
       "[5 rows x 34 columns]"
      ]
     },
     "execution_count": 3,
     "metadata": {},
     "output_type": "execute_result"
    }
   ],
   "source": [
    "data = pd.read_csv(\"total_game_data2.csv\")\n",
    "data.head()"
   ]
  },
  {
   "cell_type": "code",
   "execution_count": 4,
   "metadata": {},
   "outputs": [],
   "source": [
    "# Removes every row where a player had zero minutes played\n",
    "data = data[data['Min Played'] != 0]"
   ]
  },
  {
   "cell_type": "code",
   "execution_count": 5,
   "metadata": {},
   "outputs": [],
   "source": [
    "#Drop Columns\n",
    "data = data[data.columns.drop(list(data.filter(regex='Time')))]\n",
    "data = data[data.columns.drop(list(data.filter(regex='HR')))]\n",
    "data = data[data.columns.drop(list(data.filter(regex='Calories')))]\n",
    "data = data[data.columns.drop(list(data.filter(regex='load score')))]\n",
    "data = data[data.columns.drop(list(data.filter(regex='Recovery')))]\n",
    "data = data[data.columns.drop(list(data.filter(regex='Speed zone 1')))]\n",
    "labels = data['Class']\n",
    "data = data[data.columns.drop(list(data.filter(regex='Class')))]\n",
    "\n",
    "data = data.reset_index(drop=True)"
   ]
  },
  {
   "cell_type": "code",
   "execution_count": 6,
   "metadata": {},
   "outputs": [],
   "source": [
    "# Column names to use in later loop\n",
    "distance_columns = ('Distance in Speed zone 2 [yd] (0.10 - 2.59 mph)', 'Distance in Speed zone 3 [yd] (2.60 - 5.13 mph)', 'Distance in Speed zone 4 [yd] (5.14 - 8.38 mph)', 'Distance in Speed zone 5 [yd] (8.39- mph)')\n",
    "accel_columns = ('Number of accelerations (-50.00 - -3.00 m/s)', 'Number of accelerations (-2.99 - -2.00 m/s)', 'Number of accelerations (-1.99 - -1.00 m/s)', 'Number of accelerations (-0.99 - -0.50 m/s)', 'Number of accelerations (0.50 - 0.99 m/s)', 'Number of accelerations (1.00 - 1.99 m/s)', 'Number of accelerations (2.00 - 2.99 m/s)', 'Number of accelerations (3.00 - 50.00 m/s)')\n",
    "\n",
    "# Create new column for total accelerations\n",
    "data['Total accelerations'] = pd.Series(np.random.randn(len(data)), index=data.index)\n",
    "\n",
    "# Convert column dtypes to floats for percentage values\n",
    "data['Sprints'] = data['Sprints'].apply(np.float64)\n",
    "for i in distance_columns:\n",
    "    data[i] = data[i].apply(np.float64)\n",
    "for i in accel_columns:\n",
    "    data[i] = data[i].apply(np.float64)\n",
    "\n",
    "# Adjust sprints for minutes played, adjust speed zones for total distance, and get total accelerations\n",
    "for index, row in data.iterrows():\n",
    "    # Initialize total acceleration value\n",
    "    total_accels = 0\n",
    "    # Change # of sprints to sprints per min\n",
    "    data.at[index, 'Sprints'] = row['Sprints'] / row['Min Played']\n",
    "    # Divide distance in speed zone by total distance, save back in speed zone column\n",
    "    for i in distance_columns:\n",
    "        data.at[index, i] = (row[i]) / int(row['Total distance [yd]'])\n",
    "    # Calculate total # of accelerations and save in new column\n",
    "    for i in accel_columns:\n",
    "        total_accels += row[i]\n",
    "    data.at[index, 'Total accelerations'] = total_accels\n",
    "\n",
    "# Second loop to divide each acceleration column by the total accelerations, save back in acceleration columns\n",
    "for index, row in data.iterrows():\n",
    "    for i in accel_columns:\n",
    "        data.at[index, i] = (row[i]) / int(row['Total accelerations'])"
   ]
  },
  {
   "cell_type": "code",
   "execution_count": 7,
   "metadata": {},
   "outputs": [],
   "source": [
    "# Normalize\n",
    "from sklearn import preprocessing\n",
    "\n",
    "x = data.values #returns a numpy array\n",
    "min_max_scaler = preprocessing.MinMaxScaler()\n",
    "x_scaled = min_max_scaler.fit_transform(x)\n",
    "data = pd.DataFrame(x_scaled)\n",
    "\n",
    "# Save changes in new csv to view later. Will be moved to after normalization\n",
    "data.to_csv(\"altered_total.csv\")"
   ]
  },
  {
   "cell_type": "code",
   "execution_count": 8,
   "metadata": {},
   "outputs": [],
   "source": [
    "# Shuffle the data\n",
    "import random\n",
    "for i in range(19):\n",
    "    random.shuffle(data[i])"
   ]
  },
  {
   "cell_type": "code",
   "execution_count": 9,
   "metadata": {},
   "outputs": [],
   "source": [
    "from sklearn.decomposition import PCA\n",
    "pca = PCA(n_components=2)\n",
    "principalComponents = pca.fit_transform(data)\n",
    "principalDf = pd.DataFrame(data = principalComponents, columns = ['principal component 1', 'principal component 2'])\n",
    "\n",
    "finalDf = pd.concat([principalDf, labels], axis = 1)"
   ]
  },
  {
   "cell_type": "code",
   "execution_count": 10,
   "metadata": {},
   "outputs": [
    {
     "data": {
      "text/plain": [
       "[]"
      ]
     },
     "execution_count": 10,
     "metadata": {},
     "output_type": "execute_result"
    }
   ],
   "source": [
    "import matplotlib.pylab as plt\n",
    "plt.rcParams['figure.figsize'] = (15,15) \n",
    "plt.rcParams['font.size'] = 25 \n",
    "plt.rcParams['lines.markersize'] = 7\n",
    "\n",
    "[m,n] = data.shape\n",
    "\n",
    "mat = data.values\n",
    "\n",
    "ind1 = 4; ind2 = 11\n",
    "X = np.zeros((m,2))\n",
    "X[:,0] = mat[:,ind1]; X[:,1] = mat[:,ind2]\n",
    "\n",
    "\n",
    "plt.scatter( mat[:,ind1] , mat[:,ind2] , alpha=0.5 );\n",
    "plt.plot()"
   ]
  },
  {
   "cell_type": "code",
   "execution_count": 11,
   "metadata": {},
   "outputs": [
    {
     "data": {
      "text/plain": [
       "<matplotlib.collections.PathCollection at 0x1a1b131ac8>"
      ]
     },
     "execution_count": 11,
     "metadata": {},
     "output_type": "execute_result"
    },
    {
     "data": {
      "image/png": "[encoded data removed]",
      "text/plain": [
       "<Figure size 432x288 with 1 Axes>"
      ]
     },
     "metadata": {},
     "output_type": "display_data"
    }
   ],
   "source": [
    "from sklearn.cluster import SpectralClustering\n",
    "spectral = SpectralClustering( n_clusters=3 ) # instantiate the k-means model, with 3 clusters\n",
    "spectral.fit(X) # build the model # plot the results!\n",
    "plt.scatter( X[:,0],X[:,1], c=spectral.labels_, alpha=0.25 )"
   ]
  },
  {
   "cell_type": "code",
   "execution_count": 12,
   "metadata": {},
   "outputs": [
    {
     "data": {
      "text/plain": [
       "<matplotlib.collections.PathCollection at 0x1a1edfb860>"
      ]
     },
     "execution_count": 12,
     "metadata": {},
     "output_type": "execute_result"
    },
    {
     "data": {
      "image/png": "[encoded data removed]",
      "text/plain": [
       "<Figure size 432x288 with 1 Axes>"
      ]
     },
     "metadata": {},
     "output_type": "display_data"
    }
   ],
   "source": [
    "from sklearn.cluster import KMeans# import K-Means clustering \n",
    "kmeans=KMeans(n_clusters=3 );# instantiate the k-means model, with 3 clusters\n",
    "kmeans.fit( X ); # build the model # plot the results!\n",
    "plt.scatter( X[:,0],X[:,1], c=kmeans.labels_, alpha=0.25 )\n"
   ]
  },
  {
   "cell_type": "code",
   "execution_count": null,
   "metadata": {},
   "outputs": [],
   "source": []
  }
 ],
 "metadata": {
  "kernelspec": {
   "display_name": "Python 3",
   "language": "python",
   "name": "python3"
  },
  "language_info": {
   "codemirror_mode": {
    "name": "ipython",
    "version": 3
   },
   "file_extension": ".py",
   "mimetype": "text/x-python",
   "name": "python",
   "nbconvert_exporter": "python",
   "pygments_lexer": "ipython3",
   "version": "3.6.5"
  }
 },
 "nbformat": 4,
 "nbformat_minor": 2
}
