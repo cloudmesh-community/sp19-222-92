{
 "cells": [
  {
   "cell_type": "code",
   "execution_count": null,
   "metadata": {},
   "outputs": [],
   "source": [
    "cd Desktop/sp19-222-92/project/gamedata"
   ]
  },
  {
   "cell_type": "code",
   "execution_count": null,
   "metadata": {},
   "outputs": [],
   "source": [
    "import pandas as pd\n",
    "import numpy as np"
   ]
  },
  {
   "cell_type": "code",
   "execution_count": null,
   "metadata": {},
   "outputs": [],
   "source": [
    "data = pd.read_csv(\"total_game_data2.csv\")\n",
    "data.head()"
   ]
  },
  {
   "cell_type": "code",
   "execution_count": null,
   "metadata": {},
   "outputs": [],
   "source": [
    "# Removes every row where a player had zero minutes played\n",
    "data = data[data['Min Played'] != 0]"
   ]
  },
  {
   "cell_type": "code",
   "execution_count": null,
   "metadata": {},
   "outputs": [],
   "source": [
    "data = data[data.columns.drop(list(data.filter(regex='Time')))]\n",
    "data = data[data.columns.drop(list(data.filter(regex='HR')))]\n",
    "data = data[data.columns.drop(list(data.filter(regex='Calories')))]\n",
    "data = data[data.columns.drop(list(data.filter(regex='load score')))]\n",
    "data = data[data.columns.drop(list(data.filter(regex='Recovery')))]\n",
    "data = data[data.columns.drop(list(data.filter(regex='Speed zone 1')))]\n",
    "\n",
    "data.head()"
   ]
  },
  {
   "cell_type": "code",
   "execution_count": null,
   "metadata": {},
   "outputs": [],
   "source": [
    "#data['Sprints'].apply(np.float64)\n",
    "data['Sprints'] = data['Sprints'].apply(np.float64)\n",
    "data.info()\n",
    "# Adjust sprints for minutes played\n",
    "for index, row in data.iterrows():\n",
    "    print(index)\n",
    "    # Change # of sprints to sprints per min\n",
    "    data.at[index, 'Sprints'] = row['Sprints'] / row['Min Played']\n",
    "    for i in range(5,9):\n",
    "        data.at[index, i] = (row[i]) / int(row[0])\n",
    "        \n",
    "data.head()\n",
    "data.to_csv(\"altered_total.csv\")"
   ]
  },
  {
   "cell_type": "code",
   "execution_count": null,
   "metadata": {},
   "outputs": [],
   "source": [
    "# Normalize\n",
    "from sklearn import preprocessing\n",
    "\n",
    "x = data.values #returns a numpy array\n",
    "min_max_scaler = preprocessing.MinMaxScaler()\n",
    "x_scaled = min_max_scaler.fit_transform(x)\n",
    "data = pd.DataFrame(x_scaled)"
   ]
  },
  {
   "cell_type": "code",
   "execution_count": null,
   "metadata": {},
   "outputs": [],
   "source": [
    "data.head()"
   ]
  }
 ],
 "metadata": {
  "kernelspec": {
   "display_name": "Python 3",
   "language": "python",
   "name": "python3"
  },
  "language_info": {
   "codemirror_mode": {
    "name": "ipython",
    "version": 3
   },
   "file_extension": ".py",
   "mimetype": "text/x-python",
   "name": "python",
   "nbconvert_exporter": "python",
   "pygments_lexer": "ipython3",
   "version": "3.6.5"
  }
 },
 "nbformat": 4,
 "nbformat_minor": 2
}
